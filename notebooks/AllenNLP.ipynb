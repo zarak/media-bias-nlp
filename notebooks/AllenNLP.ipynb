{
 "cells": [
  {
   "cell_type": "code",
   "execution_count": 1,
   "metadata": {},
   "outputs": [],
   "source": [
    "from pathlib import Path\n",
    "import torch\n",
    "import torch.optim as optim\n",
    "import numpy as np\n",
    "import pandas as pd\n",
    "from functools import partial\n",
    "from overrides import overrides\n",
    "\n",
    "from allennlp.data import Instance\n",
    "from allennlp.data.token_indexers import TokenIndexer\n",
    "from allennlp.data.tokenizers import Token\n",
    "from allennlp.nn import util as nn_util"
   ]
  },
  {
   "cell_type": "code",
   "execution_count": 2,
   "metadata": {},
   "outputs": [],
   "source": [
    "class Config(dict):\n",
    "    def __init__(self, **kwargs):\n",
    "        super().__init__(**kwargs)\n",
    "        for k, v in kwargs.items():\n",
    "            setattr(self, k, v)\n",
    "    \n",
    "    def set(self, key, val):\n",
    "        self[key] = val\n",
    "        setattr(self, key, val)\n",
    "        \n",
    "config = Config(\n",
    "    testing=False,\n",
    "    seed=1,\n",
    "    batch_size=32,\n",
    "    lr=3e-4,\n",
    "    epochs=2,\n",
    "    hidden_sz=64,\n",
    "    max_seq_len=100, # necessary to limit memory usage\n",
    "    max_vocab_size=100000,\n",
    ")"
   ]
  },
  {
   "cell_type": "code",
   "execution_count": 3,
   "metadata": {},
   "outputs": [],
   "source": [
    "from allennlp.common.checks import ConfigurationError\n"
   ]
  },
  {
   "cell_type": "code",
   "execution_count": 4,
   "metadata": {},
   "outputs": [],
   "source": [
    "USE_GPU = torch.cuda.is_available()\n"
   ]
  },
  {
   "cell_type": "code",
   "execution_count": 5,
   "metadata": {},
   "outputs": [],
   "source": [
    "DATA_ROOT = Path(\"../data\") / \"processed\""
   ]
  },
  {
   "cell_type": "code",
   "execution_count": 6,
   "metadata": {},
   "outputs": [],
   "source": [
    "from typing import Dict, Iterable, List, Tuple\n",
    "\n",
    "import torch\n",
    "from allennlp.data import DatasetReader, Instance\n",
    "from allennlp.data import Vocabulary\n",
    "from allennlp.data.fields import LabelField, TextField\n",
    "from allennlp.data.token_indexers import TokenIndexer, SingleIdTokenIndexer\n",
    "from allennlp.data.tokenizers import Token, Tokenizer, WhitespaceTokenizer\n",
    "from allennlp.models import Model\n",
    "from allennlp.modules import TextFieldEmbedder, Seq2VecEncoder\n",
    "from allennlp.modules.text_field_embedders import BasicTextFieldEmbedder\n",
    "from allennlp.modules.token_embedders import Embedding\n",
    "from allennlp.modules.seq2vec_encoders import BagOfEmbeddingsEncoder\n",
    "from allennlp.nn import util\n",
    "from allennlp.training.metrics import CategoricalAccuracy"
   ]
  },
  {
   "cell_type": "code",
   "execution_count": 7,
   "metadata": {},
   "outputs": [
    {
     "name": "stdout",
     "output_type": "stream",
     "text": [
      "test.text.trimmed.tsv  train.text.trimmed.tsv  \u001b[0m\u001b[01;36mtrain.text.tsv\u001b[0m@\r\n"
     ]
    }
   ],
   "source": [
    "ls ../data/processed"
   ]
  },
  {
   "cell_type": "code",
   "execution_count": 8,
   "metadata": {},
   "outputs": [],
   "source": [
    "# @DatasetReader.register('classification-tsv')\n",
    "class ClassificationTsvReader(DatasetReader):\n",
    "    def __init__(self,\n",
    "                 tokenizer: Tokenizer = None,\n",
    "                 token_indexers: Dict[str, TokenIndexer] = None,\n",
    "                 max_tokens: int = None,\n",
    "                 **kwargs):\n",
    "        super().__init__(**kwargs)\n",
    "        self.tokenizer = tokenizer or WhitespaceTokenizer()\n",
    "        self.token_indexers = token_indexers or {'tokens': SingleIdTokenIndexer()}\n",
    "        self.max_tokens = max_tokens\n",
    "\n",
    "    def text_to_instance(self, text: str, label: str = None) -> Instance:\n",
    "        tokens = self.tokenizer.tokenize(text)\n",
    "        if self.max_tokens:\n",
    "            tokens = tokens[:self.max_tokens]\n",
    "        text_field = TextField(tokens, self.token_indexers)\n",
    "        fields = {'text': text_field}\n",
    "        if label:\n",
    "            fields['label'] = LabelField((label))\n",
    "        return Instance(fields)\n",
    "\n",
    "#     def _read(self, file_path: str) -> Iterable[Instance]:\n",
    "#         df = pd.read_csv(file_path, sep='\\t', header=None, index_col=0)\n",
    "#         df.columns = ['hyperpartisan', '1', '2', 'text', 'title']\n",
    "#         df = df.drop(columns=['1','2'])\n",
    "#         \n",
    "#         print(df.head())\n",
    "#         \n",
    "#         for i, row in df.iterrows():\n",
    "#             yield self.text_to_instance(row[\"text\"], row[\"hyperpartisan\"])\n",
    "\n",
    "    def _read(self, file_path: str) -> Iterable[Instance]:\n",
    "        with open(file_path, 'r') as lines:\n",
    "            for line in lines:\n",
    "                label, text, title = line.strip().split('\\t')\n",
    "                yield self.text_to_instance(text, label)\n"
   ]
  },
  {
   "cell_type": "code",
   "execution_count": 9,
   "metadata": {},
   "outputs": [
    {
     "data": {
      "application/vnd.jupyter.widget-view+json": {
       "model_id": "bfb11f9bdecf440d9ed9935b5b51bab3",
       "version_major": 2,
       "version_minor": 0
      },
      "text/plain": [
       "HBox(children=(HTML(value='reading instances'), FloatProgress(value=1.0, bar_style='info', layout=Layout(width…"
      ]
     },
     "metadata": {},
     "output_type": "display_data"
    },
    {
     "name": "stdout",
     "output_type": "stream",
     "text": [
      "type of dataset:  <class 'allennlp.data.dataset_readers.dataset_reader.AllennlpDataset'>\n",
      "type of its first element:  <class 'allennlp.data.instance.Instance'>\n",
      "size of dataset:  545\n"
     ]
    },
    {
     "name": "stderr",
     "output_type": "stream",
     "text": [
      "\n"
     ]
    }
   ],
   "source": [
    "# Instantiate and use the dataset reader to read a file containing the data\n",
    "reader = ClassificationTsvReader()\n",
    "dataset = reader.read(DATA_ROOT / 'train.text.trimmed.tsv')\n",
    "\n",
    "# Returned dataset is a list of Instances by default\n",
    "print('type of dataset: ', type(dataset))\n",
    "print('type of its first element: ', type(dataset[0]))\n",
    "print('size of dataset: ', len(dataset))"
   ]
  },
  {
   "cell_type": "code",
   "execution_count": 10,
   "metadata": {},
   "outputs": [],
   "source": [
    "# Nsamp = 1000\n",
    "# maxtokens = 500\n",
    "# maxtokenlen = 20\n",
    "# \n",
    "# def tokenizer(row):\n",
    "#     if row is None or row == '':\n",
    "#         tokens = \"\"\n",
    "#     else:\n",
    "#         tokens = str(row).split(\" \")[:maxtokens]\n",
    "#     return tokens"
   ]
  },
  {
   "cell_type": "code",
   "execution_count": 11,
   "metadata": {},
   "outputs": [
    {
     "data": {
      "text/plain": [
       "allennlp.data.instance.Instance"
      ]
     },
     "execution_count": 11,
     "metadata": {},
     "output_type": "execute_result"
    }
   ],
   "source": [
    "type(dataset[1])"
   ]
  },
  {
   "cell_type": "code",
   "execution_count": 12,
   "metadata": {},
   "outputs": [],
   "source": [
    "all_instance_fields_and_types: List[Dict[str, str]] = [\n",
    "            {k: v.__class__.__name__ for k, v in x.fields.items()} for x in dataset\n",
    "        ]"
   ]
  },
  {
   "cell_type": "code",
   "execution_count": 13,
   "metadata": {},
   "outputs": [
    {
     "data": {
      "text/plain": [
       "[{'text': 'TextField', 'label': 'LabelField'},\n",
       " {'text': 'TextField', 'label': 'LabelField'},\n",
       " {'text': 'TextField', 'label': 'LabelField'},\n",
       " {'text': 'TextField', 'label': 'LabelField'},\n",
       " {'text': 'TextField', 'label': 'LabelField'},\n",
       " {'text': 'TextField', 'label': 'LabelField'},\n",
       " {'text': 'TextField', 'label': 'LabelField'},\n",
       " {'text': 'TextField', 'label': 'LabelField'},\n",
       " {'text': 'TextField', 'label': 'LabelField'},\n",
       " {'text': 'TextField', 'label': 'LabelField'},\n",
       " {'text': 'TextField', 'label': 'LabelField'},\n",
       " {'text': 'TextField', 'label': 'LabelField'},\n",
       " {'text': 'TextField', 'label': 'LabelField'},\n",
       " {'text': 'TextField', 'label': 'LabelField'},\n",
       " {'text': 'TextField', 'label': 'LabelField'},\n",
       " {'text': 'TextField', 'label': 'LabelField'},\n",
       " {'text': 'TextField', 'label': 'LabelField'},\n",
       " {'text': 'TextField', 'label': 'LabelField'},\n",
       " {'text': 'TextField', 'label': 'LabelField'},\n",
       " {'text': 'TextField', 'label': 'LabelField'},\n",
       " {'text': 'TextField', 'label': 'LabelField'},\n",
       " {'text': 'TextField', 'label': 'LabelField'},\n",
       " {'text': 'TextField', 'label': 'LabelField'},\n",
       " {'text': 'TextField', 'label': 'LabelField'},\n",
       " {'text': 'TextField', 'label': 'LabelField'},\n",
       " {'text': 'TextField', 'label': 'LabelField'},\n",
       " {'text': 'TextField', 'label': 'LabelField'},\n",
       " {'text': 'TextField', 'label': 'LabelField'},\n",
       " {'text': 'TextField', 'label': 'LabelField'},\n",
       " {'text': 'TextField', 'label': 'LabelField'},\n",
       " {'text': 'TextField', 'label': 'LabelField'},\n",
       " {'text': 'TextField', 'label': 'LabelField'},\n",
       " {'text': 'TextField', 'label': 'LabelField'},\n",
       " {'text': 'TextField', 'label': 'LabelField'},\n",
       " {'text': 'TextField', 'label': 'LabelField'},\n",
       " {'text': 'TextField', 'label': 'LabelField'},\n",
       " {'text': 'TextField', 'label': 'LabelField'},\n",
       " {'text': 'TextField', 'label': 'LabelField'},\n",
       " {'text': 'TextField', 'label': 'LabelField'},\n",
       " {'text': 'TextField', 'label': 'LabelField'},\n",
       " {'text': 'TextField', 'label': 'LabelField'},\n",
       " {'text': 'TextField', 'label': 'LabelField'},\n",
       " {'text': 'TextField', 'label': 'LabelField'},\n",
       " {'text': 'TextField', 'label': 'LabelField'},\n",
       " {'text': 'TextField', 'label': 'LabelField'},\n",
       " {'text': 'TextField', 'label': 'LabelField'},\n",
       " {'text': 'TextField', 'label': 'LabelField'},\n",
       " {'text': 'TextField', 'label': 'LabelField'},\n",
       " {'text': 'TextField', 'label': 'LabelField'},\n",
       " {'text': 'TextField', 'label': 'LabelField'},\n",
       " {'text': 'TextField', 'label': 'LabelField'},\n",
       " {'text': 'TextField', 'label': 'LabelField'},\n",
       " {'text': 'TextField', 'label': 'LabelField'},\n",
       " {'text': 'TextField', 'label': 'LabelField'},\n",
       " {'text': 'TextField', 'label': 'LabelField'},\n",
       " {'text': 'TextField', 'label': 'LabelField'},\n",
       " {'text': 'TextField', 'label': 'LabelField'},\n",
       " {'text': 'TextField', 'label': 'LabelField'},\n",
       " {'text': 'TextField', 'label': 'LabelField'},\n",
       " {'text': 'TextField', 'label': 'LabelField'},\n",
       " {'text': 'TextField', 'label': 'LabelField'},\n",
       " {'text': 'TextField', 'label': 'LabelField'},\n",
       " {'text': 'TextField', 'label': 'LabelField'},\n",
       " {'text': 'TextField', 'label': 'LabelField'},\n",
       " {'text': 'TextField', 'label': 'LabelField'},\n",
       " {'text': 'TextField', 'label': 'LabelField'},\n",
       " {'text': 'TextField', 'label': 'LabelField'},\n",
       " {'text': 'TextField', 'label': 'LabelField'},\n",
       " {'text': 'TextField', 'label': 'LabelField'},\n",
       " {'text': 'TextField', 'label': 'LabelField'},\n",
       " {'text': 'TextField', 'label': 'LabelField'},\n",
       " {'text': 'TextField', 'label': 'LabelField'},\n",
       " {'text': 'TextField', 'label': 'LabelField'},\n",
       " {'text': 'TextField', 'label': 'LabelField'},\n",
       " {'text': 'TextField', 'label': 'LabelField'},\n",
       " {'text': 'TextField', 'label': 'LabelField'},\n",
       " {'text': 'TextField', 'label': 'LabelField'},\n",
       " {'text': 'TextField', 'label': 'LabelField'},\n",
       " {'text': 'TextField', 'label': 'LabelField'},\n",
       " {'text': 'TextField', 'label': 'LabelField'},\n",
       " {'text': 'TextField', 'label': 'LabelField'},\n",
       " {'text': 'TextField', 'label': 'LabelField'},\n",
       " {'text': 'TextField', 'label': 'LabelField'},\n",
       " {'text': 'TextField', 'label': 'LabelField'},\n",
       " {'text': 'TextField', 'label': 'LabelField'},\n",
       " {'text': 'TextField', 'label': 'LabelField'},\n",
       " {'text': 'TextField', 'label': 'LabelField'},\n",
       " {'text': 'TextField', 'label': 'LabelField'},\n",
       " {'text': 'TextField', 'label': 'LabelField'},\n",
       " {'text': 'TextField', 'label': 'LabelField'},\n",
       " {'text': 'TextField', 'label': 'LabelField'},\n",
       " {'text': 'TextField', 'label': 'LabelField'},\n",
       " {'text': 'TextField', 'label': 'LabelField'},\n",
       " {'text': 'TextField', 'label': 'LabelField'},\n",
       " {'text': 'TextField', 'label': 'LabelField'},\n",
       " {'text': 'TextField', 'label': 'LabelField'},\n",
       " {'text': 'TextField', 'label': 'LabelField'},\n",
       " {'text': 'TextField', 'label': 'LabelField'},\n",
       " {'text': 'TextField', 'label': 'LabelField'},\n",
       " {'text': 'TextField', 'label': 'LabelField'},\n",
       " {'text': 'TextField', 'label': 'LabelField'},\n",
       " {'text': 'TextField', 'label': 'LabelField'},\n",
       " {'text': 'TextField', 'label': 'LabelField'},\n",
       " {'text': 'TextField', 'label': 'LabelField'},\n",
       " {'text': 'TextField', 'label': 'LabelField'},\n",
       " {'text': 'TextField', 'label': 'LabelField'},\n",
       " {'text': 'TextField', 'label': 'LabelField'},\n",
       " {'text': 'TextField', 'label': 'LabelField'},\n",
       " {'text': 'TextField', 'label': 'LabelField'},\n",
       " {'text': 'TextField', 'label': 'LabelField'},\n",
       " {'text': 'TextField', 'label': 'LabelField'},\n",
       " {'text': 'TextField', 'label': 'LabelField'},\n",
       " {'text': 'TextField', 'label': 'LabelField'},\n",
       " {'text': 'TextField', 'label': 'LabelField'},\n",
       " {'text': 'TextField', 'label': 'LabelField'},\n",
       " {'text': 'TextField', 'label': 'LabelField'},\n",
       " {'text': 'TextField', 'label': 'LabelField'},\n",
       " {'text': 'TextField', 'label': 'LabelField'},\n",
       " {'text': 'TextField', 'label': 'LabelField'},\n",
       " {'text': 'TextField', 'label': 'LabelField'},\n",
       " {'text': 'TextField', 'label': 'LabelField'},\n",
       " {'text': 'TextField', 'label': 'LabelField'},\n",
       " {'text': 'TextField', 'label': 'LabelField'},\n",
       " {'text': 'TextField', 'label': 'LabelField'},\n",
       " {'text': 'TextField', 'label': 'LabelField'},\n",
       " {'text': 'TextField', 'label': 'LabelField'},\n",
       " {'text': 'TextField', 'label': 'LabelField'},\n",
       " {'text': 'TextField', 'label': 'LabelField'},\n",
       " {'text': 'TextField', 'label': 'LabelField'},\n",
       " {'text': 'TextField', 'label': 'LabelField'},\n",
       " {'text': 'TextField', 'label': 'LabelField'},\n",
       " {'text': 'TextField', 'label': 'LabelField'},\n",
       " {'text': 'TextField', 'label': 'LabelField'},\n",
       " {'text': 'TextField', 'label': 'LabelField'},\n",
       " {'text': 'TextField', 'label': 'LabelField'},\n",
       " {'text': 'TextField', 'label': 'LabelField'},\n",
       " {'text': 'TextField', 'label': 'LabelField'},\n",
       " {'text': 'TextField', 'label': 'LabelField'},\n",
       " {'text': 'TextField', 'label': 'LabelField'},\n",
       " {'text': 'TextField', 'label': 'LabelField'},\n",
       " {'text': 'TextField', 'label': 'LabelField'},\n",
       " {'text': 'TextField', 'label': 'LabelField'},\n",
       " {'text': 'TextField', 'label': 'LabelField'},\n",
       " {'text': 'TextField', 'label': 'LabelField'},\n",
       " {'text': 'TextField', 'label': 'LabelField'},\n",
       " {'text': 'TextField', 'label': 'LabelField'},\n",
       " {'text': 'TextField', 'label': 'LabelField'},\n",
       " {'text': 'TextField', 'label': 'LabelField'},\n",
       " {'text': 'TextField', 'label': 'LabelField'},\n",
       " {'text': 'TextField', 'label': 'LabelField'},\n",
       " {'text': 'TextField', 'label': 'LabelField'},\n",
       " {'text': 'TextField', 'label': 'LabelField'},\n",
       " {'text': 'TextField', 'label': 'LabelField'},\n",
       " {'text': 'TextField', 'label': 'LabelField'},\n",
       " {'text': 'TextField', 'label': 'LabelField'},\n",
       " {'text': 'TextField', 'label': 'LabelField'},\n",
       " {'text': 'TextField', 'label': 'LabelField'},\n",
       " {'text': 'TextField', 'label': 'LabelField'},\n",
       " {'text': 'TextField', 'label': 'LabelField'},\n",
       " {'text': 'TextField', 'label': 'LabelField'},\n",
       " {'text': 'TextField', 'label': 'LabelField'},\n",
       " {'text': 'TextField', 'label': 'LabelField'},\n",
       " {'text': 'TextField', 'label': 'LabelField'},\n",
       " {'text': 'TextField', 'label': 'LabelField'},\n",
       " {'text': 'TextField', 'label': 'LabelField'},\n",
       " {'text': 'TextField', 'label': 'LabelField'},\n",
       " {'text': 'TextField', 'label': 'LabelField'},\n",
       " {'text': 'TextField', 'label': 'LabelField'},\n",
       " {'text': 'TextField', 'label': 'LabelField'},\n",
       " {'text': 'TextField', 'label': 'LabelField'},\n",
       " {'text': 'TextField', 'label': 'LabelField'},\n",
       " {'text': 'TextField', 'label': 'LabelField'},\n",
       " {'text': 'TextField', 'label': 'LabelField'},\n",
       " {'text': 'TextField', 'label': 'LabelField'},\n",
       " {'text': 'TextField', 'label': 'LabelField'},\n",
       " {'text': 'TextField', 'label': 'LabelField'},\n",
       " {'text': 'TextField', 'label': 'LabelField'},\n",
       " {'text': 'TextField', 'label': 'LabelField'},\n",
       " {'text': 'TextField', 'label': 'LabelField'},\n",
       " {'text': 'TextField', 'label': 'LabelField'},\n",
       " {'text': 'TextField', 'label': 'LabelField'},\n",
       " {'text': 'TextField', 'label': 'LabelField'},\n",
       " {'text': 'TextField', 'label': 'LabelField'},\n",
       " {'text': 'TextField', 'label': 'LabelField'},\n",
       " {'text': 'TextField', 'label': 'LabelField'},\n",
       " {'text': 'TextField', 'label': 'LabelField'},\n",
       " {'text': 'TextField', 'label': 'LabelField'},\n",
       " {'text': 'TextField', 'label': 'LabelField'},\n",
       " {'text': 'TextField', 'label': 'LabelField'},\n",
       " {'text': 'TextField', 'label': 'LabelField'},\n",
       " {'text': 'TextField', 'label': 'LabelField'},\n",
       " {'text': 'TextField', 'label': 'LabelField'},\n",
       " {'text': 'TextField', 'label': 'LabelField'},\n",
       " {'text': 'TextField', 'label': 'LabelField'},\n",
       " {'text': 'TextField', 'label': 'LabelField'},\n",
       " {'text': 'TextField', 'label': 'LabelField'},\n",
       " {'text': 'TextField', 'label': 'LabelField'},\n",
       " {'text': 'TextField', 'label': 'LabelField'},\n",
       " {'text': 'TextField', 'label': 'LabelField'},\n",
       " {'text': 'TextField', 'label': 'LabelField'},\n",
       " {'text': 'TextField', 'label': 'LabelField'},\n",
       " {'text': 'TextField', 'label': 'LabelField'},\n",
       " {'text': 'TextField', 'label': 'LabelField'},\n",
       " {'text': 'TextField', 'label': 'LabelField'},\n",
       " {'text': 'TextField', 'label': 'LabelField'},\n",
       " {'text': 'TextField', 'label': 'LabelField'},\n",
       " {'text': 'TextField', 'label': 'LabelField'},\n",
       " {'text': 'TextField', 'label': 'LabelField'},\n",
       " {'text': 'TextField', 'label': 'LabelField'},\n",
       " {'text': 'TextField', 'label': 'LabelField'},\n",
       " {'text': 'TextField', 'label': 'LabelField'},\n",
       " {'text': 'TextField', 'label': 'LabelField'},\n",
       " {'text': 'TextField', 'label': 'LabelField'},\n",
       " {'text': 'TextField', 'label': 'LabelField'},\n",
       " {'text': 'TextField', 'label': 'LabelField'},\n",
       " {'text': 'TextField', 'label': 'LabelField'},\n",
       " {'text': 'TextField', 'label': 'LabelField'},\n",
       " {'text': 'TextField', 'label': 'LabelField'},\n",
       " {'text': 'TextField', 'label': 'LabelField'},\n",
       " {'text': 'TextField', 'label': 'LabelField'},\n",
       " {'text': 'TextField', 'label': 'LabelField'},\n",
       " {'text': 'TextField', 'label': 'LabelField'},\n",
       " {'text': 'TextField', 'label': 'LabelField'},\n",
       " {'text': 'TextField', 'label': 'LabelField'},\n",
       " {'text': 'TextField', 'label': 'LabelField'},\n",
       " {'text': 'TextField', 'label': 'LabelField'},\n",
       " {'text': 'TextField', 'label': 'LabelField'},\n",
       " {'text': 'TextField', 'label': 'LabelField'},\n",
       " {'text': 'TextField', 'label': 'LabelField'},\n",
       " {'text': 'TextField', 'label': 'LabelField'},\n",
       " {'text': 'TextField', 'label': 'LabelField'},\n",
       " {'text': 'TextField', 'label': 'LabelField'},\n",
       " {'text': 'TextField', 'label': 'LabelField'},\n",
       " {'text': 'TextField', 'label': 'LabelField'},\n",
       " {'text': 'TextField', 'label': 'LabelField'},\n",
       " {'text': 'TextField', 'label': 'LabelField'},\n",
       " {'text': 'TextField', 'label': 'LabelField'},\n",
       " {'text': 'TextField', 'label': 'LabelField'},\n",
       " {'text': 'TextField', 'label': 'LabelField'},\n",
       " {'text': 'TextField', 'label': 'LabelField'},\n",
       " {'text': 'TextField', 'label': 'LabelField'},\n",
       " {'text': 'TextField', 'label': 'LabelField'},\n",
       " {'text': 'TextField', 'label': 'LabelField'},\n",
       " {'text': 'TextField', 'label': 'LabelField'},\n",
       " {'text': 'TextField', 'label': 'LabelField'},\n",
       " {'text': 'TextField', 'label': 'LabelField'},\n",
       " {'text': 'TextField', 'label': 'LabelField'},\n",
       " {'text': 'TextField', 'label': 'LabelField'},\n",
       " {'text': 'TextField', 'label': 'LabelField'},\n",
       " {'text': 'TextField', 'label': 'LabelField'},\n",
       " {'text': 'TextField', 'label': 'LabelField'},\n",
       " {'text': 'TextField', 'label': 'LabelField'},\n",
       " {'text': 'TextField', 'label': 'LabelField'},\n",
       " {'text': 'TextField', 'label': 'LabelField'},\n",
       " {'text': 'TextField', 'label': 'LabelField'},\n",
       " {'text': 'TextField', 'label': 'LabelField'},\n",
       " {'text': 'TextField', 'label': 'LabelField'},\n",
       " {'text': 'TextField', 'label': 'LabelField'},\n",
       " {'text': 'TextField', 'label': 'LabelField'},\n",
       " {'text': 'TextField', 'label': 'LabelField'},\n",
       " {'text': 'TextField', 'label': 'LabelField'},\n",
       " {'text': 'TextField', 'label': 'LabelField'},\n",
       " {'text': 'TextField', 'label': 'LabelField'},\n",
       " {'text': 'TextField', 'label': 'LabelField'},\n",
       " {'text': 'TextField', 'label': 'LabelField'},\n",
       " {'text': 'TextField', 'label': 'LabelField'},\n",
       " {'text': 'TextField', 'label': 'LabelField'},\n",
       " {'text': 'TextField', 'label': 'LabelField'},\n",
       " {'text': 'TextField', 'label': 'LabelField'},\n",
       " {'text': 'TextField', 'label': 'LabelField'},\n",
       " {'text': 'TextField', 'label': 'LabelField'},\n",
       " {'text': 'TextField', 'label': 'LabelField'},\n",
       " {'text': 'TextField', 'label': 'LabelField'},\n",
       " {'text': 'TextField', 'label': 'LabelField'},\n",
       " {'text': 'TextField', 'label': 'LabelField'},\n",
       " {'text': 'TextField', 'label': 'LabelField'},\n",
       " {'text': 'TextField', 'label': 'LabelField'},\n",
       " {'text': 'TextField', 'label': 'LabelField'},\n",
       " {'text': 'TextField', 'label': 'LabelField'},\n",
       " {'text': 'TextField', 'label': 'LabelField'},\n",
       " {'text': 'TextField', 'label': 'LabelField'},\n",
       " {'text': 'TextField', 'label': 'LabelField'},\n",
       " {'text': 'TextField', 'label': 'LabelField'},\n",
       " {'text': 'TextField', 'label': 'LabelField'},\n",
       " {'text': 'TextField', 'label': 'LabelField'},\n",
       " {'text': 'TextField', 'label': 'LabelField'},\n",
       " {'text': 'TextField', 'label': 'LabelField'},\n",
       " {'text': 'TextField', 'label': 'LabelField'},\n",
       " {'text': 'TextField', 'label': 'LabelField'},\n",
       " {'text': 'TextField', 'label': 'LabelField'},\n",
       " {'text': 'TextField', 'label': 'LabelField'},\n",
       " {'text': 'TextField', 'label': 'LabelField'},\n",
       " {'text': 'TextField', 'label': 'LabelField'},\n",
       " {'text': 'TextField', 'label': 'LabelField'},\n",
       " {'text': 'TextField', 'label': 'LabelField'},\n",
       " {'text': 'TextField', 'label': 'LabelField'},\n",
       " {'text': 'TextField', 'label': 'LabelField'},\n",
       " {'text': 'TextField', 'label': 'LabelField'},\n",
       " {'text': 'TextField', 'label': 'LabelField'},\n",
       " {'text': 'TextField', 'label': 'LabelField'},\n",
       " {'text': 'TextField', 'label': 'LabelField'},\n",
       " {'text': 'TextField', 'label': 'LabelField'},\n",
       " {'text': 'TextField', 'label': 'LabelField'},\n",
       " {'text': 'TextField', 'label': 'LabelField'},\n",
       " {'text': 'TextField', 'label': 'LabelField'},\n",
       " {'text': 'TextField', 'label': 'LabelField'},\n",
       " {'text': 'TextField', 'label': 'LabelField'},\n",
       " {'text': 'TextField', 'label': 'LabelField'},\n",
       " {'text': 'TextField', 'label': 'LabelField'},\n",
       " {'text': 'TextField', 'label': 'LabelField'},\n",
       " {'text': 'TextField', 'label': 'LabelField'},\n",
       " {'text': 'TextField', 'label': 'LabelField'},\n",
       " {'text': 'TextField', 'label': 'LabelField'},\n",
       " {'text': 'TextField', 'label': 'LabelField'},\n",
       " {'text': 'TextField', 'label': 'LabelField'},\n",
       " {'text': 'TextField', 'label': 'LabelField'},\n",
       " {'text': 'TextField', 'label': 'LabelField'},\n",
       " {'text': 'TextField', 'label': 'LabelField'},\n",
       " {'text': 'TextField', 'label': 'LabelField'},\n",
       " {'text': 'TextField', 'label': 'LabelField'},\n",
       " {'text': 'TextField', 'label': 'LabelField'},\n",
       " {'text': 'TextField', 'label': 'LabelField'},\n",
       " {'text': 'TextField', 'label': 'LabelField'},\n",
       " {'text': 'TextField', 'label': 'LabelField'},\n",
       " {'text': 'TextField', 'label': 'LabelField'},\n",
       " {'text': 'TextField', 'label': 'LabelField'},\n",
       " {'text': 'TextField', 'label': 'LabelField'},\n",
       " {'text': 'TextField', 'label': 'LabelField'},\n",
       " {'text': 'TextField', 'label': 'LabelField'},\n",
       " {'text': 'TextField', 'label': 'LabelField'},\n",
       " {'text': 'TextField', 'label': 'LabelField'},\n",
       " {'text': 'TextField', 'label': 'LabelField'},\n",
       " {'text': 'TextField', 'label': 'LabelField'},\n",
       " {'text': 'TextField', 'label': 'LabelField'},\n",
       " {'text': 'TextField', 'label': 'LabelField'},\n",
       " {'text': 'TextField', 'label': 'LabelField'},\n",
       " {'text': 'TextField', 'label': 'LabelField'},\n",
       " {'text': 'TextField', 'label': 'LabelField'},\n",
       " {'text': 'TextField', 'label': 'LabelField'},\n",
       " {'text': 'TextField', 'label': 'LabelField'},\n",
       " {'text': 'TextField', 'label': 'LabelField'},\n",
       " {'text': 'TextField', 'label': 'LabelField'},\n",
       " {'text': 'TextField', 'label': 'LabelField'},\n",
       " {'text': 'TextField', 'label': 'LabelField'},\n",
       " {'text': 'TextField', 'label': 'LabelField'},\n",
       " {'text': 'TextField', 'label': 'LabelField'},\n",
       " {'text': 'TextField', 'label': 'LabelField'},\n",
       " {'text': 'TextField', 'label': 'LabelField'},\n",
       " {'text': 'TextField', 'label': 'LabelField'},\n",
       " {'text': 'TextField', 'label': 'LabelField'},\n",
       " {'text': 'TextField', 'label': 'LabelField'},\n",
       " {'text': 'TextField', 'label': 'LabelField'},\n",
       " {'text': 'TextField', 'label': 'LabelField'},\n",
       " {'text': 'TextField', 'label': 'LabelField'},\n",
       " {'text': 'TextField', 'label': 'LabelField'},\n",
       " {'text': 'TextField', 'label': 'LabelField'},\n",
       " {'text': 'TextField', 'label': 'LabelField'},\n",
       " {'text': 'TextField', 'label': 'LabelField'},\n",
       " {'text': 'TextField', 'label': 'LabelField'},\n",
       " {'text': 'TextField', 'label': 'LabelField'},\n",
       " {'text': 'TextField', 'label': 'LabelField'},\n",
       " {'text': 'TextField', 'label': 'LabelField'},\n",
       " {'text': 'TextField', 'label': 'LabelField'},\n",
       " {'text': 'TextField', 'label': 'LabelField'},\n",
       " {'text': 'TextField', 'label': 'LabelField'},\n",
       " {'text': 'TextField', 'label': 'LabelField'},\n",
       " {'text': 'TextField', 'label': 'LabelField'},\n",
       " {'text': 'TextField', 'label': 'LabelField'},\n",
       " {'text': 'TextField', 'label': 'LabelField'},\n",
       " {'text': 'TextField', 'label': 'LabelField'},\n",
       " {'text': 'TextField', 'label': 'LabelField'},\n",
       " {'text': 'TextField', 'label': 'LabelField'},\n",
       " {'text': 'TextField', 'label': 'LabelField'},\n",
       " {'text': 'TextField', 'label': 'LabelField'},\n",
       " {'text': 'TextField', 'label': 'LabelField'},\n",
       " {'text': 'TextField', 'label': 'LabelField'},\n",
       " {'text': 'TextField', 'label': 'LabelField'},\n",
       " {'text': 'TextField', 'label': 'LabelField'},\n",
       " {'text': 'TextField', 'label': 'LabelField'},\n",
       " {'text': 'TextField', 'label': 'LabelField'},\n",
       " {'text': 'TextField', 'label': 'LabelField'},\n",
       " {'text': 'TextField', 'label': 'LabelField'},\n",
       " {'text': 'TextField', 'label': 'LabelField'},\n",
       " {'text': 'TextField', 'label': 'LabelField'},\n",
       " {'text': 'TextField', 'label': 'LabelField'},\n",
       " {'text': 'TextField', 'label': 'LabelField'},\n",
       " {'text': 'TextField', 'label': 'LabelField'},\n",
       " {'text': 'TextField', 'label': 'LabelField'},\n",
       " {'text': 'TextField', 'label': 'LabelField'},\n",
       " {'text': 'TextField', 'label': 'LabelField'},\n",
       " {'text': 'TextField', 'label': 'LabelField'},\n",
       " {'text': 'TextField', 'label': 'LabelField'},\n",
       " {'text': 'TextField', 'label': 'LabelField'},\n",
       " {'text': 'TextField', 'label': 'LabelField'},\n",
       " {'text': 'TextField', 'label': 'LabelField'},\n",
       " {'text': 'TextField', 'label': 'LabelField'},\n",
       " {'text': 'TextField', 'label': 'LabelField'},\n",
       " {'text': 'TextField', 'label': 'LabelField'},\n",
       " {'text': 'TextField', 'label': 'LabelField'},\n",
       " {'text': 'TextField', 'label': 'LabelField'},\n",
       " {'text': 'TextField', 'label': 'LabelField'},\n",
       " {'text': 'TextField', 'label': 'LabelField'},\n",
       " {'text': 'TextField', 'label': 'LabelField'},\n",
       " {'text': 'TextField', 'label': 'LabelField'},\n",
       " {'text': 'TextField', 'label': 'LabelField'},\n",
       " {'text': 'TextField', 'label': 'LabelField'},\n",
       " {'text': 'TextField', 'label': 'LabelField'},\n",
       " {'text': 'TextField', 'label': 'LabelField'},\n",
       " {'text': 'TextField', 'label': 'LabelField'},\n",
       " {'text': 'TextField', 'label': 'LabelField'},\n",
       " {'text': 'TextField', 'label': 'LabelField'},\n",
       " {'text': 'TextField', 'label': 'LabelField'},\n",
       " {'text': 'TextField', 'label': 'LabelField'},\n",
       " {'text': 'TextField', 'label': 'LabelField'},\n",
       " {'text': 'TextField', 'label': 'LabelField'},\n",
       " {'text': 'TextField', 'label': 'LabelField'},\n",
       " {'text': 'TextField', 'label': 'LabelField'},\n",
       " {'text': 'TextField', 'label': 'LabelField'},\n",
       " {'text': 'TextField', 'label': 'LabelField'},\n",
       " {'text': 'TextField', 'label': 'LabelField'},\n",
       " {'text': 'TextField', 'label': 'LabelField'},\n",
       " {'text': 'TextField', 'label': 'LabelField'},\n",
       " {'text': 'TextField', 'label': 'LabelField'},\n",
       " {'text': 'TextField', 'label': 'LabelField'},\n",
       " {'text': 'TextField', 'label': 'LabelField'},\n",
       " {'text': 'TextField', 'label': 'LabelField'},\n",
       " {'text': 'TextField', 'label': 'LabelField'},\n",
       " {'text': 'TextField', 'label': 'LabelField'},\n",
       " {'text': 'TextField', 'label': 'LabelField'},\n",
       " {'text': 'TextField', 'label': 'LabelField'},\n",
       " {'text': 'TextField', 'label': 'LabelField'},\n",
       " {'text': 'TextField', 'label': 'LabelField'},\n",
       " {'text': 'TextField', 'label': 'LabelField'},\n",
       " {'text': 'TextField', 'label': 'LabelField'},\n",
       " {'text': 'TextField', 'label': 'LabelField'},\n",
       " {'text': 'TextField', 'label': 'LabelField'},\n",
       " {'text': 'TextField', 'label': 'LabelField'},\n",
       " {'text': 'TextField', 'label': 'LabelField'},\n",
       " {'text': 'TextField', 'label': 'LabelField'},\n",
       " {'text': 'TextField', 'label': 'LabelField'},\n",
       " {'text': 'TextField', 'label': 'LabelField'},\n",
       " {'text': 'TextField', 'label': 'LabelField'},\n",
       " {'text': 'TextField', 'label': 'LabelField'},\n",
       " {'text': 'TextField', 'label': 'LabelField'},\n",
       " {'text': 'TextField', 'label': 'LabelField'},\n",
       " {'text': 'TextField', 'label': 'LabelField'},\n",
       " {'text': 'TextField', 'label': 'LabelField'},\n",
       " {'text': 'TextField', 'label': 'LabelField'},\n",
       " {'text': 'TextField', 'label': 'LabelField'},\n",
       " {'text': 'TextField', 'label': 'LabelField'},\n",
       " {'text': 'TextField', 'label': 'LabelField'},\n",
       " {'text': 'TextField', 'label': 'LabelField'},\n",
       " {'text': 'TextField', 'label': 'LabelField'},\n",
       " {'text': 'TextField', 'label': 'LabelField'},\n",
       " {'text': 'TextField', 'label': 'LabelField'},\n",
       " {'text': 'TextField', 'label': 'LabelField'},\n",
       " {'text': 'TextField', 'label': 'LabelField'},\n",
       " {'text': 'TextField', 'label': 'LabelField'},\n",
       " {'text': 'TextField', 'label': 'LabelField'},\n",
       " {'text': 'TextField', 'label': 'LabelField'},\n",
       " {'text': 'TextField', 'label': 'LabelField'},\n",
       " {'text': 'TextField', 'label': 'LabelField'},\n",
       " {'text': 'TextField', 'label': 'LabelField'},\n",
       " {'text': 'TextField', 'label': 'LabelField'},\n",
       " {'text': 'TextField', 'label': 'LabelField'},\n",
       " {'text': 'TextField', 'label': 'LabelField'},\n",
       " {'text': 'TextField', 'label': 'LabelField'},\n",
       " {'text': 'TextField', 'label': 'LabelField'},\n",
       " {'text': 'TextField', 'label': 'LabelField'},\n",
       " {'text': 'TextField', 'label': 'LabelField'},\n",
       " {'text': 'TextField', 'label': 'LabelField'},\n",
       " {'text': 'TextField', 'label': 'LabelField'},\n",
       " {'text': 'TextField', 'label': 'LabelField'},\n",
       " {'text': 'TextField', 'label': 'LabelField'},\n",
       " {'text': 'TextField', 'label': 'LabelField'},\n",
       " {'text': 'TextField', 'label': 'LabelField'},\n",
       " {'text': 'TextField', 'label': 'LabelField'},\n",
       " {'text': 'TextField', 'label': 'LabelField'},\n",
       " {'text': 'TextField', 'label': 'LabelField'},\n",
       " {'text': 'TextField', 'label': 'LabelField'},\n",
       " {'text': 'TextField', 'label': 'LabelField'},\n",
       " {'text': 'TextField', 'label': 'LabelField'},\n",
       " {'text': 'TextField', 'label': 'LabelField'},\n",
       " {'text': 'TextField', 'label': 'LabelField'},\n",
       " {'text': 'TextField', 'label': 'LabelField'},\n",
       " {'text': 'TextField', 'label': 'LabelField'},\n",
       " {'text': 'TextField', 'label': 'LabelField'},\n",
       " {'text': 'TextField', 'label': 'LabelField'},\n",
       " {'text': 'TextField', 'label': 'LabelField'},\n",
       " {'text': 'TextField', 'label': 'LabelField'},\n",
       " {'text': 'TextField', 'label': 'LabelField'},\n",
       " {'text': 'TextField', 'label': 'LabelField'},\n",
       " {'text': 'TextField', 'label': 'LabelField'},\n",
       " {'text': 'TextField', 'label': 'LabelField'},\n",
       " {'text': 'TextField', 'label': 'LabelField'},\n",
       " {'text': 'TextField', 'label': 'LabelField'},\n",
       " {'text': 'TextField', 'label': 'LabelField'},\n",
       " {'text': 'TextField', 'label': 'LabelField'},\n",
       " {'text': 'TextField', 'label': 'LabelField'},\n",
       " {'text': 'TextField', 'label': 'LabelField'},\n",
       " {'text': 'TextField', 'label': 'LabelField'},\n",
       " {'text': 'TextField', 'label': 'LabelField'},\n",
       " {'text': 'TextField', 'label': 'LabelField'},\n",
       " {'text': 'TextField', 'label': 'LabelField'},\n",
       " {'text': 'TextField', 'label': 'LabelField'},\n",
       " {'text': 'TextField', 'label': 'LabelField'},\n",
       " {'text': 'TextField', 'label': 'LabelField'},\n",
       " {'text': 'TextField', 'label': 'LabelField'},\n",
       " {'text': 'TextField', 'label': 'LabelField'},\n",
       " {'text': 'TextField', 'label': 'LabelField'},\n",
       " {'text': 'TextField', 'label': 'LabelField'},\n",
       " {'text': 'TextField', 'label': 'LabelField'},\n",
       " {'text': 'TextField', 'label': 'LabelField'},\n",
       " {'text': 'TextField', 'label': 'LabelField'},\n",
       " {'text': 'TextField', 'label': 'LabelField'},\n",
       " {'text': 'TextField', 'label': 'LabelField'},\n",
       " {'text': 'TextField', 'label': 'LabelField'},\n",
       " {'text': 'TextField', 'label': 'LabelField'},\n",
       " {'text': 'TextField', 'label': 'LabelField'},\n",
       " {'text': 'TextField', 'label': 'LabelField'},\n",
       " {'text': 'TextField', 'label': 'LabelField'},\n",
       " {'text': 'TextField', 'label': 'LabelField'},\n",
       " {'text': 'TextField', 'label': 'LabelField'},\n",
       " {'text': 'TextField', 'label': 'LabelField'},\n",
       " {'text': 'TextField', 'label': 'LabelField'},\n",
       " {'text': 'TextField', 'label': 'LabelField'},\n",
       " {'text': 'TextField', 'label': 'LabelField'},\n",
       " {'text': 'TextField', 'label': 'LabelField'},\n",
       " {'text': 'TextField', 'label': 'LabelField'},\n",
       " {'text': 'TextField', 'label': 'LabelField'},\n",
       " {'text': 'TextField', 'label': 'LabelField'},\n",
       " {'text': 'TextField', 'label': 'LabelField'},\n",
       " {'text': 'TextField', 'label': 'LabelField'},\n",
       " {'text': 'TextField', 'label': 'LabelField'},\n",
       " {'text': 'TextField', 'label': 'LabelField'},\n",
       " {'text': 'TextField', 'label': 'LabelField'},\n",
       " {'text': 'TextField', 'label': 'LabelField'},\n",
       " {'text': 'TextField', 'label': 'LabelField'},\n",
       " {'text': 'TextField', 'label': 'LabelField'},\n",
       " {'text': 'TextField', 'label': 'LabelField'},\n",
       " {'text': 'TextField', 'label': 'LabelField'},\n",
       " {'text': 'TextField', 'label': 'LabelField'},\n",
       " {'text': 'TextField', 'label': 'LabelField'},\n",
       " {'text': 'TextField', 'label': 'LabelField'},\n",
       " {'text': 'TextField', 'label': 'LabelField'}]"
      ]
     },
     "execution_count": 13,
     "metadata": {},
     "output_type": "execute_result"
    }
   ],
   "source": [
    "all_instance_fields_and_types"
   ]
  },
  {
   "cell_type": "code",
   "execution_count": 14,
   "metadata": {},
   "outputs": [
    {
     "data": {
      "text/plain": [
       "True"
      ]
     },
     "execution_count": 14,
     "metadata": {},
     "output_type": "execute_result"
    }
   ],
   "source": [
    "all(all_instance_fields_and_types[0] == x for x in all_instance_fields_and_types)"
   ]
  },
  {
   "cell_type": "code",
   "execution_count": null,
   "metadata": {},
   "outputs": [],
   "source": []
  },
  {
   "cell_type": "code",
   "execution_count": 15,
   "metadata": {},
   "outputs": [
    {
     "data": {
      "text/plain": [
       "[Fox,\n",
       " News,\n",
       " panel,\n",
       " with,\n",
       " Katie,\n",
       " Pavlich,\n",
       " and,\n",
       " Adrienne,\n",
       " Elrod,\n",
       " (,\n",
       " Photo,\n",
       " :,\n",
       " Screen,\n",
       " capture,\n",
       " ),\n",
       " <splt>,\n",
       " A,\n",
       " Fox,\n",
       " News,\n",
       " host,\n",
       " and,\n",
       " panelist,\n",
       " alleged,\n",
       " that,\n",
       " it,\n",
       " was,\n",
       " Hillary,\n",
       " Clinton,\n",
       " that,\n",
       " colluded,\n",
       " with,\n",
       " Russia,\n",
       " and,\n",
       " thus,\n",
       " should,\n",
       " be,\n",
       " taken,\n",
       " to,\n",
       " jail,\n",
       " —,\n",
       " not,\n",
       " President,\n",
       " Donald,\n",
       " Trump,\n",
       " .,\n",
       " <splt>,\n",
       " While,\n",
       " Russian,\n",
       " bots,\n",
       " sowed,\n",
       " division,\n",
       " among,\n",
       " Democratic,\n",
       " voters,\n",
       " ,,\n",
       " attacked,\n",
       " people,\n",
       " of,\n",
       " color,\n",
       " ,,\n",
       " attacked,\n",
       " Hillary,\n",
       " Clinton,\n",
       " ,,\n",
       " worked,\n",
       " to,\n",
       " suppress,\n",
       " voters,\n",
       " of,\n",
       " color,\n",
       " then,\n",
       " spread,\n",
       " fake,\n",
       " voter,\n",
       " fraud,\n",
       " claims,\n",
       " ,,\n",
       " Fox,\n",
       " News,\n",
       " thinks,\n",
       " this,\n",
       " was,\n",
       " a,\n",
       " campaign,\n",
       " in,\n",
       " favor,\n",
       " of,\n",
       " Clinton,\n",
       " 's,\n",
       " 2016,\n",
       " bid,\n",
       " .,\n",
       " <splt>,\n",
       " \",\n",
       " Well,\n",
       " ,,\n",
       " if,\n",
       " it,\n",
       " 's,\n",
       " really,\n",
       " a,\n",
       " big,\n",
       " threat,\n",
       " and,\n",
       " we,\n",
       " want,\n",
       " to,\n",
       " stop,\n",
       " them,\n",
       " from,\n",
       " meddling,\n",
       " in,\n",
       " our,\n",
       " elections,\n",
       " ,,\n",
       " why,\n",
       " is,\n",
       " it,\n",
       " that,\n",
       " during,\n",
       " a,\n",
       " three,\n",
       " -,\n",
       " year,\n",
       " time,\n",
       " span,\n",
       " the,\n",
       " Obama,\n",
       " administration,\n",
       " really,\n",
       " did,\n",
       " n't,\n",
       " do,\n",
       " much,\n",
       " to,\n",
       " stop,\n",
       " this,\n",
       " from,\n",
       " happening,\n",
       " ,,\n",
       " \",\n",
       " asked,\n",
       " Town,\n",
       " Hall,\n",
       " editor,\n",
       " Katie,\n",
       " Pavlich,\n",
       " .,\n",
       " <splt>,\n",
       " She,\n",
       " referred,\n",
       " to,\n",
       " the,\n",
       " 2012,\n",
       " election,\n",
       " debate,\n",
       " in,\n",
       " which,\n",
       " Mitt,\n",
       " Romney,\n",
       " cautioned,\n",
       " that,\n",
       " Russia,\n",
       " was,\n",
       " the,\n",
       " greatest,\n",
       " American,\n",
       " foe,\n",
       " over,\n",
       " radical,\n",
       " ISIS,\n",
       " or,\n",
       " Taliban,\n",
       " extremists,\n",
       " .,\n",
       " <splt>,\n",
       " However,\n",
       " ,,\n",
       " 2016,\n",
       " was,\n",
       " the,\n",
       " first,\n",
       " election,\n",
       " Russia,\n",
       " is,\n",
       " known,\n",
       " to,\n",
       " have,\n",
       " infiltrated,\n",
       " .,\n",
       " <splt>,\n",
       " Pavlich,\n",
       " and,\n",
       " the,\n",
       " host,\n",
       " then,\n",
       " turned,\n",
       " to,\n",
       " wonder,\n",
       " why,\n",
       " 300,\n",
       " elected,\n",
       " officials,\n",
       " did,\n",
       " n't,\n",
       " show,\n",
       " up,\n",
       " for,\n",
       " the,\n",
       " classified,\n",
       " briefing,\n",
       " held,\n",
       " at,\n",
       " the,\n",
       " FBI,\n",
       " involving,\n",
       " the,\n",
       " \",\n",
       " Gang,\n",
       " of,\n",
       " 8,\n",
       " .,\n",
       " \",\n",
       " <splt>,\n",
       " The,\n",
       " 300,\n",
       " members,\n",
       " likely,\n",
       " did,\n",
       " n't,\n",
       " have,\n",
       " a,\n",
       " high,\n",
       " enough,\n",
       " clearance,\n",
       " level,\n",
       " to,\n",
       " view,\n",
       " the,\n",
       " classified,\n",
       " documents,\n",
       " .,\n",
       " <splt>,\n",
       " The,\n",
       " \",\n",
       " Gang,\n",
       " of,\n",
       " 8,\n",
       " \",\n",
       " all,\n",
       " have,\n",
       " the,\n",
       " proper,\n",
       " security,\n",
       " clearance,\n",
       " level,\n",
       " to,\n",
       " have,\n",
       " viewed,\n",
       " the,\n",
       " documents,\n",
       " .,\n",
       " <splt>,\n",
       " The,\n",
       " Fox,\n",
       " host,\n",
       " asked,\n",
       " former,\n",
       " Clinton,\n",
       " staffer,\n",
       " Adrienne,\n",
       " Elrod,\n",
       " if,\n",
       " the,\n",
       " entire,\n",
       " Russia,\n",
       " scandal,\n",
       " could,\n",
       " have,\n",
       " been,\n",
       " avoided,\n",
       " if,\n",
       " former,\n",
       " President,\n",
       " Barack,\n",
       " Obama,\n",
       " had,\n",
       " stopped,\n",
       " Russia,\n",
       " before,\n",
       " they,\n",
       " even,\n",
       " started,\n",
       " .,\n",
       " <splt>,\n",
       " Elrod,\n",
       " explained,\n",
       " that,\n",
       " there,\n",
       " was,\n",
       " a,\n",
       " lot,\n",
       " of,\n",
       " work,\n",
       " going,\n",
       " on,\n",
       " behind,\n",
       " the,\n",
       " scenes,\n",
       " .,\n",
       " <splt>,\n",
       " Given,\n",
       " the,\n",
       " security,\n",
       " level,\n",
       " ,,\n",
       " it,\n",
       " 's,\n",
       " likely,\n",
       " much,\n",
       " of,\n",
       " the,\n",
       " information,\n",
       " available,\n",
       " at,\n",
       " the,\n",
       " time,\n",
       " could,\n",
       " not,\n",
       " be,\n",
       " made,\n",
       " public,\n",
       " .,\n",
       " <splt>,\n",
       " She,\n",
       " noted,\n",
       " she,\n",
       " wished,\n",
       " Obama,\n",
       " had,\n",
       " acted,\n",
       " prior,\n",
       " to,\n",
       " the,\n",
       " election,\n",
       " but,\n",
       " asked,\n",
       " what,\n",
       " Trump,\n",
       " is,\n",
       " doing,\n",
       " today,\n",
       " to,\n",
       " stop,\n",
       " Russia,\n",
       " from,\n",
       " acting,\n",
       " in,\n",
       " the,\n",
       " 2018,\n",
       " election,\n",
       " .,\n",
       " <splt>,\n",
       " The,\n",
       " Fox,\n",
       " host,\n",
       " along,\n",
       " with,\n",
       " Pavlich,\n",
       " went,\n",
       " on,\n",
       " to,\n",
       " claim,\n",
       " that,\n",
       " Clinton,\n",
       " was,\n",
       " colluding,\n",
       " with,\n",
       " Russia,\n",
       " because,\n",
       " her,\n",
       " campaign,\n",
       " partially,\n",
       " paid,\n",
       " the,\n",
       " law,\n",
       " firm,\n",
       " that,\n",
       " bought,\n",
       " the,\n",
       " opposition,\n",
       " research,\n",
       " dossier,\n",
       " from,\n",
       " Christopher,\n",
       " Steele,\n",
       " .,\n",
       " <splt>,\n",
       " Another,\n",
       " portion,\n",
       " of,\n",
       " the,\n",
       " dossier,\n",
       " was,\n",
       " paid,\n",
       " for,\n",
       " by,\n",
       " Republicans,\n",
       " hoping,\n",
       " to,\n",
       " discredit,\n",
       " Trump,\n",
       " prior,\n",
       " to,\n",
       " the,\n",
       " general,\n",
       " election,\n",
       " .,\n",
       " <splt>,\n",
       " For,\n",
       " that,\n",
       " reason,\n",
       " ,,\n",
       " Fox,\n",
       " News,\n",
       " believes,\n",
       " Clinton,\n",
       " colluded,\n",
       " with,\n",
       " Russia,\n",
       " more,\n",
       " than,\n",
       " Trump,\n",
       " did,\n",
       " .,\n",
       " <splt>,\n",
       " Fox,\n",
       " News,\n",
       " hosts,\n",
       " have,\n",
       " also,\n",
       " alleged,\n",
       " that,\n",
       " Clinton,\n",
       " is,\n",
       " behind,\n",
       " the,\n",
       " meeting,\n",
       " with,\n",
       " the,\n",
       " Russian,\n",
       " lawyer,\n",
       " at,\n",
       " Trump,\n",
       " Tower,\n",
       " .,\n",
       " <splt>,\n",
       " Watch,\n",
       " the,\n",
       " full,\n",
       " conversation,\n",
       " below,\n",
       " :,\n",
       " <splt>,\n",
       " 00:00]"
      ]
     },
     "execution_count": 15,
     "metadata": {},
     "output_type": "execute_result"
    }
   ],
   "source": [
    "list(dataset[1].fields[\"text\"])"
   ]
  },
  {
   "cell_type": "code",
   "execution_count": 16,
   "metadata": {},
   "outputs": [
    {
     "data": {
      "text/plain": [
       "545"
      ]
     },
     "execution_count": 16,
     "metadata": {},
     "output_type": "execute_result"
    }
   ],
   "source": [
    "len(dataset)"
   ]
  },
  {
   "cell_type": "code",
   "execution_count": null,
   "metadata": {},
   "outputs": [],
   "source": []
  },
  {
   "cell_type": "code",
   "execution_count": null,
   "metadata": {},
   "outputs": [],
   "source": []
  },
  {
   "cell_type": "code",
   "execution_count": 17,
   "metadata": {},
   "outputs": [],
   "source": [
    "@Model.register('simple_classifier')\n",
    "class SimpleClassifier(Model):\n",
    "    def __init__(self,\n",
    "                 vocab: Vocabulary,\n",
    "                 embedder: TextFieldEmbedder,\n",
    "                 encoder: Seq2VecEncoder):\n",
    "        super().__init__(vocab)\n",
    "        self.embedder = embedder\n",
    "        self.encoder = encoder\n",
    "        num_labels = vocab.get_vocab_size(\"labels\")\n",
    "        self.classifier = torch.nn.Linear(encoder.get_output_dim(), num_labels)\n",
    "        self.accuracy = CategoricalAccuracy()\n",
    "        \n",
    "    def forward(self,\n",
    "                text: Dict[str, torch.Tensor],\n",
    "                label: torch.Tensor) -> Dict[str, torch.Tensor]:\n",
    "        # Shape: (batch_size, num_tokens, embedding_dim)\n",
    "        embedded_text = self.embedder(text)\n",
    "        # Shape: (batch_size, num_tokens)\n",
    "        mask = util.get_text_field_mask(text)\n",
    "        # Shape: (batch_size, encoding_dim)\n",
    "        encoded_text = self.encoder(embedded_text, mask)\n",
    "        # Shape: (batch_size, num_labels)\n",
    "        logits = self.classifier(encoded_text)\n",
    "        # Shape: (batch_size, num_labels)\n",
    "        probs = torch.nn.functional.softmax(logits)\n",
    "        # Shape: (1,)\n",
    "        loss = torch.nn.functional.cross_entropy(logits, label)\n",
    "        return {'loss': loss, 'probs': probs}\n",
    "    \n",
    "    def get_metrics(self, reset: bool = False) -> Dict[str, float]:\n",
    "        return {\"accuracy\": self.accuracy.get_metric(reset)}\n",
    "    \n"
   ]
  },
  {
   "cell_type": "code",
   "execution_count": 18,
   "metadata": {},
   "outputs": [],
   "source": [
    "\n",
    "import allennlp\n",
    "from allennlp.data import PyTorchDataLoader, DatasetReader\n",
    "from allennlp.nn import util\n",
    "from allennlp.training.trainer import GradientDescentTrainer, Trainer\n",
    "from allennlp.training.optimizers import AdamOptimizer\n",
    "from allennlp.training.metrics import CategoricalAccuracy\n"
   ]
  },
  {
   "cell_type": "code",
   "execution_count": 27,
   "metadata": {},
   "outputs": [],
   "source": [
    "\n",
    "def run_training_loop():\n",
    "    dataset_reader = ClassificationTsvReader(max_tokens=64)\n",
    "\n",
    "    train_data, dev_data = read_data(dataset_reader)\n",
    "\n",
    "    vocab = build_vocab(train_data + dev_data)\n",
    "    model = build_model(vocab)\n",
    "\n",
    "    # outputs = model.forward_on_instances(instances[:4])\n",
    "    # print(outputs)\n",
    "    \n",
    "    # This is the allennlp-specific functionality in the Dataset object;\n",
    "    # we need to be able convert strings in the data to integers, and this\n",
    "    # is how we do it.\n",
    "    train_data.index_with(vocab)\n",
    "    \n",
    "    dev_data.index_with(vocab)\n",
    "\n",
    "    # These are again a subclass of pytorch DataLoaders, with an\n",
    "    # allennlp-specific collate function, that runs our indexing and\n",
    "    # batching code.\n",
    "    train_loader, dev_loader = build_data_loaders(train_data, dev_data)\n",
    "    \n",
    "    \n",
    "    trainer = build_trainer(\n",
    "        model,\n",
    "        train_loader,\n",
    "        dev_loader,\n",
    "    )\n",
    "    print(\"Starting training\")\n",
    "    trainer.train()\n",
    "    print(\"Finished training\")\n",
    "    return model, dataset_reader\n",
    "\n",
    "def build_vocab(instances: Iterable[Instance]) -> Vocabulary:\n",
    "    print(\"Building the vocabulary\")\n",
    "    return Vocabulary.from_instances(instances)\n",
    "\n",
    "def build_model(vocab: Vocabulary) -> Model:\n",
    "    print(\"Building the model\")\n",
    "    vocab_size = vocab.get_vocab_size(\"tokens\")\n",
    "    embedder = BasicTextFieldEmbedder(\n",
    "        {\"tokens\": Embedding(embedding_dim=10, num_embeddings=vocab_size)})\n",
    "    encoder = BagOfEmbeddingsEncoder(embedding_dim=10)\n",
    "    return SimpleClassifier(vocab, embedder, encoder)\n",
    "\n",
    "def build_data_loaders(\n",
    "    train_data: torch.utils.data.Dataset,\n",
    "    dev_data: torch.utils.data.Dataset,\n",
    ") -> Tuple[allennlp.data.DataLoader, allennlp.data.DataLoader]:\n",
    "    # Note that DataLoader is imported from allennlp above, *not* torch.\n",
    "    # We need to get the allennlp-specific collate function, which is\n",
    "    # what actually does indexing and batching.\n",
    "    train_loader = PyTorchDataLoader(train_data, batch_size=8, shuffle=True)\n",
    "    dev_loader = PyTorchDataLoader(train_data, batch_size=8, shuffle=False)\n",
    "    return train_loader, dev_loader\n",
    "\n",
    "def build_trainer(\n",
    "    model: Model,\n",
    "    train_loader: PyTorchDataLoader,\n",
    "    dev_loader: PyTorchDataLoader,\n",
    ") -> Trainer:\n",
    "    parameters = [\n",
    "        [n, p]\n",
    "        for n, p in model.named_parameters() if p.requires_grad\n",
    "    ]\n",
    "    if torch.cuda.is_available():\n",
    "        cuda_device = 0\n",
    "        model = model.cuda(cuda_device)\n",
    "    else:\n",
    "        cuda_device = -1\n",
    "    optimizer = AdamOptimizer(parameters)\n",
    "    trainer = GradientDescentTrainer(\n",
    "        model=model,\n",
    "        data_loader=train_loader,\n",
    "        validation_data_loader=dev_loader,\n",
    "        num_epochs=5,\n",
    "        optimizer=optimizer,\n",
    "    )\n",
    "    return trainer\n",
    "\n",
    "def read_data(\n",
    "    reader: DatasetReader\n",
    ") -> Tuple[Iterable[Instance], Iterable[Instance]]:\n",
    "    print(\"Reading data\")\n",
    "    training_data = reader.read(DATA_ROOT / 'train.text.trimmed.tsv')\n",
    "    validation_data = reader.read(DATA_ROOT / 'test.text.trimmed.tsv')\n",
    "    # validation_data = reader.read(\"quick_start/data/movie_review/dev.tsv\")\n",
    "    return training_data, validation_data\n"
   ]
  },
  {
   "cell_type": "code",
   "execution_count": 28,
   "metadata": {},
   "outputs": [
    {
     "name": "stdout",
     "output_type": "stream",
     "text": [
      "Reading data\n"
     ]
    },
    {
     "data": {
      "application/vnd.jupyter.widget-view+json": {
       "model_id": "e7f1fa5f21b44fc1937091049e466b9f",
       "version_major": 2,
       "version_minor": 0
      },
      "text/plain": [
       "HBox(children=(HTML(value='reading instances'), FloatProgress(value=1.0, bar_style='info', layout=Layout(width…"
      ]
     },
     "metadata": {},
     "output_type": "display_data"
    },
    {
     "name": "stderr",
     "output_type": "stream",
     "text": [
      "\n"
     ]
    },
    {
     "data": {
      "application/vnd.jupyter.widget-view+json": {
       "model_id": "cfcb798033d940ec8bd5fc684093ec49",
       "version_major": 2,
       "version_minor": 0
      },
      "text/plain": [
       "HBox(children=(HTML(value='reading instances'), FloatProgress(value=1.0, bar_style='info', layout=Layout(width…"
      ]
     },
     "metadata": {},
     "output_type": "display_data"
    },
    {
     "name": "stdout",
     "output_type": "stream",
     "text": [
      "Building the vocabulary\n"
     ]
    },
    {
     "name": "stderr",
     "output_type": "stream",
     "text": [
      "\n"
     ]
    },
    {
     "data": {
      "application/vnd.jupyter.widget-view+json": {
       "model_id": "2a3db1043ddf40b2844cdceda54c7cfd",
       "version_major": 2,
       "version_minor": 0
      },
      "text/plain": [
       "HBox(children=(HTML(value='building vocab'), FloatProgress(value=0.0, max=645.0), HTML(value='')))"
      ]
     },
     "metadata": {},
     "output_type": "display_data"
    },
    {
     "name": "stderr",
     "output_type": "stream",
     "text": [
      "\n",
      "You provided a validation dataset but patience was set to None, meaning that early stopping is disabled\n"
     ]
    },
    {
     "name": "stdout",
     "output_type": "stream",
     "text": [
      "Building the model\n",
      "Starting training\n"
     ]
    },
    {
     "data": {
      "application/vnd.jupyter.widget-view+json": {
       "model_id": "804574bf2a9b49a882881deb361e9d35",
       "version_major": 2,
       "version_minor": 0
      },
      "text/plain": [
       "HBox(children=(HTML(value=''), FloatProgress(value=0.0, max=69.0), HTML(value='')))"
      ]
     },
     "metadata": {},
     "output_type": "display_data"
    },
    {
     "name": "stderr",
     "output_type": "stream",
     "text": [
      "<ipython-input-17-fccc06fc089b>:26: UserWarning: Implicit dimension choice for softmax has been deprecated. Change the call to include dim=X as an argument.\n",
      "  probs = torch.nn.functional.softmax(logits)\n",
      "\n"
     ]
    },
    {
     "data": {
      "application/vnd.jupyter.widget-view+json": {
       "model_id": "389263d621584394a47026e60d08e689",
       "version_major": 2,
       "version_minor": 0
      },
      "text/plain": [
       "HBox(children=(HTML(value=''), FloatProgress(value=0.0, max=69.0), HTML(value='')))"
      ]
     },
     "metadata": {},
     "output_type": "display_data"
    },
    {
     "name": "stderr",
     "output_type": "stream",
     "text": [
      "\n"
     ]
    },
    {
     "data": {
      "application/vnd.jupyter.widget-view+json": {
       "model_id": "0db2665890a1469dbf6adea9b56d778f",
       "version_major": 2,
       "version_minor": 0
      },
      "text/plain": [
       "HBox(children=(HTML(value=''), FloatProgress(value=0.0, max=69.0), HTML(value='')))"
      ]
     },
     "metadata": {},
     "output_type": "display_data"
    },
    {
     "name": "stderr",
     "output_type": "stream",
     "text": [
      "\n"
     ]
    },
    {
     "data": {
      "application/vnd.jupyter.widget-view+json": {
       "model_id": "52aa0a45c68e456fab5169205554bb7b",
       "version_major": 2,
       "version_minor": 0
      },
      "text/plain": [
       "HBox(children=(HTML(value=''), FloatProgress(value=0.0, max=69.0), HTML(value='')))"
      ]
     },
     "metadata": {},
     "output_type": "display_data"
    },
    {
     "name": "stderr",
     "output_type": "stream",
     "text": [
      "\n"
     ]
    },
    {
     "data": {
      "application/vnd.jupyter.widget-view+json": {
       "model_id": "6cbbd63e8d4e488f995fa429bb49fa8f",
       "version_major": 2,
       "version_minor": 0
      },
      "text/plain": [
       "HBox(children=(HTML(value=''), FloatProgress(value=0.0, max=69.0), HTML(value='')))"
      ]
     },
     "metadata": {},
     "output_type": "display_data"
    },
    {
     "name": "stderr",
     "output_type": "stream",
     "text": [
      "\n"
     ]
    },
    {
     "data": {
      "application/vnd.jupyter.widget-view+json": {
       "model_id": "8a535494a89f4717ae56a2bd3fae90ed",
       "version_major": 2,
       "version_minor": 0
      },
      "text/plain": [
       "HBox(children=(HTML(value=''), FloatProgress(value=0.0, max=69.0), HTML(value='')))"
      ]
     },
     "metadata": {},
     "output_type": "display_data"
    },
    {
     "name": "stderr",
     "output_type": "stream",
     "text": [
      "\n"
     ]
    },
    {
     "data": {
      "application/vnd.jupyter.widget-view+json": {
       "model_id": "d2bd7ffeb5b64f3c82e80b86aa036b0d",
       "version_major": 2,
       "version_minor": 0
      },
      "text/plain": [
       "HBox(children=(HTML(value=''), FloatProgress(value=0.0, max=69.0), HTML(value='')))"
      ]
     },
     "metadata": {},
     "output_type": "display_data"
    },
    {
     "name": "stderr",
     "output_type": "stream",
     "text": [
      "\n"
     ]
    },
    {
     "data": {
      "application/vnd.jupyter.widget-view+json": {
       "model_id": "892c3faac968487eb3a25c875b412c79",
       "version_major": 2,
       "version_minor": 0
      },
      "text/plain": [
       "HBox(children=(HTML(value=''), FloatProgress(value=0.0, max=69.0), HTML(value='')))"
      ]
     },
     "metadata": {},
     "output_type": "display_data"
    },
    {
     "name": "stderr",
     "output_type": "stream",
     "text": [
      "\n"
     ]
    },
    {
     "data": {
      "application/vnd.jupyter.widget-view+json": {
       "model_id": "b5bbc3a246454b309eff53098bc27070",
       "version_major": 2,
       "version_minor": 0
      },
      "text/plain": [
       "HBox(children=(HTML(value=''), FloatProgress(value=0.0, max=69.0), HTML(value='')))"
      ]
     },
     "metadata": {},
     "output_type": "display_data"
    },
    {
     "name": "stderr",
     "output_type": "stream",
     "text": [
      "\n"
     ]
    },
    {
     "data": {
      "application/vnd.jupyter.widget-view+json": {
       "model_id": "d6216d6255a942d7b96877a0f40bd2d5",
       "version_major": 2,
       "version_minor": 0
      },
      "text/plain": [
       "HBox(children=(HTML(value=''), FloatProgress(value=0.0, max=69.0), HTML(value='')))"
      ]
     },
     "metadata": {},
     "output_type": "display_data"
    },
    {
     "name": "stdout",
     "output_type": "stream",
     "text": [
      "Finished training\n"
     ]
    },
    {
     "name": "stderr",
     "output_type": "stream",
     "text": [
      "\n"
     ]
    }
   ],
   "source": [
    "\n",
    "\n",
    "model, dataset_reader = run_training_loop()"
   ]
  },
  {
   "cell_type": "code",
   "execution_count": 29,
   "metadata": {},
   "outputs": [
    {
     "data": {
      "application/vnd.jupyter.widget-view+json": {
       "model_id": "fed1160bd05642cbba1bfb192de5446e",
       "version_major": 2,
       "version_minor": 0
      },
      "text/plain": [
       "HBox(children=(HTML(value='reading instances'), FloatProgress(value=1.0, bar_style='info', layout=Layout(width…"
      ]
     },
     "metadata": {},
     "output_type": "display_data"
    },
    {
     "name": "stderr",
     "output_type": "stream",
     "text": [
      "\n"
     ]
    }
   ],
   "source": [
    "test_data = dataset_reader.read('../data/processed/test.text.trimmed.tsv')"
   ]
  },
  {
   "cell_type": "code",
   "execution_count": 30,
   "metadata": {},
   "outputs": [],
   "source": [
    "test_data.index_with(model.vocab)"
   ]
  },
  {
   "cell_type": "code",
   "execution_count": 31,
   "metadata": {},
   "outputs": [],
   "source": [
    "data_loader = PyTorchDataLoader(test_data, batch_size=8)"
   ]
  },
  {
   "cell_type": "code",
   "execution_count": 35,
   "metadata": {},
   "outputs": [
    {
     "data": {
      "application/vnd.jupyter.widget-view+json": {
       "model_id": "e3fa5ea7d9f742109328a27fdc8c849b",
       "version_major": 2,
       "version_minor": 0
      },
      "text/plain": [
       "HBox(children=(HTML(value=''), FloatProgress(value=1.0, bar_style='info', layout=Layout(width='20px'), max=1.0…"
      ]
     },
     "metadata": {},
     "output_type": "display_data"
    },
    {
     "name": "stderr",
     "output_type": "stream",
     "text": [
      "<ipython-input-17-fccc06fc089b>:26: UserWarning: Implicit dimension choice for softmax has been deprecated. Change the call to include dim=X as an argument.\n",
      "  probs = torch.nn.functional.softmax(logits)\n",
      "\n"
     ]
    }
   ],
   "source": [
    "from allennlp.training.util import evaluate\n",
    "\n",
    "results = evaluate(model, data_loader, cuda_device=0)"
   ]
  },
  {
   "cell_type": "code",
   "execution_count": 36,
   "metadata": {},
   "outputs": [
    {
     "name": "stdout",
     "output_type": "stream",
     "text": [
      "{'accuracy': 0.0, 'loss': 0.8926467872582949}\n"
     ]
    }
   ],
   "source": [
    "print(results)"
   ]
  },
  {
   "cell_type": "code",
   "execution_count": null,
   "metadata": {},
   "outputs": [],
   "source": []
  },
  {
   "cell_type": "code",
   "execution_count": null,
   "metadata": {},
   "outputs": [],
   "source": []
  },
  {
   "cell_type": "code",
   "execution_count": null,
   "metadata": {},
   "outputs": [],
   "source": []
  },
  {
   "cell_type": "code",
   "execution_count": null,
   "metadata": {},
   "outputs": [],
   "source": []
  }
 ],
 "metadata": {
  "kernelspec": {
   "display_name": "Python 3",
   "language": "python",
   "name": "python3"
  },
  "language_info": {
   "codemirror_mode": {
    "name": "ipython",
    "version": 3
   },
   "file_extension": ".py",
   "mimetype": "text/x-python",
   "name": "python",
   "nbconvert_exporter": "python",
   "pygments_lexer": "ipython3",
   "version": "3.8.6"
  }
 },
 "nbformat": 4,
 "nbformat_minor": 4
}
